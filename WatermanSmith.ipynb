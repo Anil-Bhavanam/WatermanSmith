{
  "nbformat": 4,
  "nbformat_minor": 0,
  "metadata": {
    "colab": {
      "provenance": []
    },
    "kernelspec": {
      "name": "python3",
      "display_name": "Python 3"
    },
    "language_info": {
      "name": "python"
    }
  },
  "cells": [
    {
      "cell_type": "code",
      "execution_count": null,
      "metadata": {
        "id": "ZifIu8ZgDcsa"
      },
      "outputs": [],
      "source": [
        "\n",
        "\n",
        "\n",
        "class Solution:\n",
        "\n",
        "  def local_alignment(self, sequence_A: str, sequence_B:str,substitution: dict, gap: int ):\n",
        "    import pandas as pd\n",
        "    import numpy as np\n",
        "    df=pd.DataFrame(dict)\n",
        "    print('the substitution matrix')\n",
        "    print(df)\n",
        "\n",
        "    print()\n",
        "    print()\n",
        "    print('the matrix for the given sequence')\n",
        "    substitution_matrix=df.to_numpy()\n",
        "\n",
        "    a=len(sequence_A)\n",
        "    b=len(sequence_B)\n",
        "\n",
        "\n",
        "    est_matrix = np.zeros((a + 1, b + 1))\n",
        "    pointerTable = np.zeros((a+1, b+1), dtype=int)\n",
        "\n",
        "    r,c=(est_matrix.shape)\n",
        "\n",
        "    for row in range(r):\n",
        "      for column in range(c):\n",
        "        if row==0:\n",
        "          est_matrix[row][column]=column*0\n",
        "\n",
        "        elif column==0:\n",
        "          est_matrix[row][column]=row*0\n",
        "    for i in range(len(sequence_A)):\n",
        "      for j in range(len(sequence_B)):\n",
        "          dia=est_matrix[i][j]+dict[sequence_A[i]][sequence_B[j]]\n",
        "          top=est_matrix[i+1][j]+gap\n",
        "          lft=est_matrix[i][j+1]+gap\n",
        "          if max(dia,lft,top)>0:\n",
        "            est_matrix[i+1][j+1]=max(dia,lft,top)\n",
        "          else :\n",
        "            est_matrix[i+1][j+1]=0\n",
        "          if(est_matrix[i+1][j+1] == 0):\n",
        "                pointerTable[i+1][j+1] = 4\n",
        "          elif (est_matrix[i+1][j+1] == dia):\n",
        "                pointerTable[i+1][j+1] = 3\n",
        "          elif (est_matrix[i+1][j+1] == top):\n",
        "                pointerTable[i+1][j+1] = 2\n",
        "          elif (est_matrix[i+1][j+1] == lft):\n",
        "                pointerTable[i+1][j+1] = 1\n",
        "    print(est_matrix)\n",
        "\n",
        "    alSeq1 = \"\"\n",
        "    alSeq2 = \"\"\n",
        "    rx = []\n",
        "    ry = []\n",
        "    i, j = np.unravel_index(est_matrix.argmax(), est_matrix.shape)\n",
        "    score = est_matrix.max()\n",
        "    while i > 0 and j > 0:\n",
        "        if pointerTable[i][j] == 4:\n",
        "            break\n",
        "        if pointerTable[i][j] == 3:\n",
        "            rx.append(sequence_A[i-1])\n",
        "            ry.append(sequence_B[j-1])\n",
        "            i -= 1\n",
        "            j -= 1\n",
        "        elif pointerTable[i][j] == 1:\n",
        "            rx.append('-')\n",
        "            ry.append(sequence_B[j-1])\n",
        "            j -= 1\n",
        "        elif pointerTable[i][j] == 2:\n",
        "            rx.append(sequence_A[i-1])\n",
        "            ry.append('-')\n",
        "            i -= 1\n",
        "\n",
        "\n",
        "  # Reverse the strings.\n",
        "    rx = ''.join(rx)[::-1]\n",
        "    ry = ''.join(ry)[::-1]\n",
        "\n",
        "    print('\\n'.join([rx, ry]))\n",
        ""
      ]
    },
    {
      "cell_type": "code",
      "source": [
        "WS=Solution()\n",
        "dict={'a': {'a': 1, 'c': -1, 't': -1,'g':-1}, 'c': {'a': -1, 'c': 1, 't': -1,'g':-1}, 't': {'a': -1, 'c': -1, 't': 1,'g':-1},'g': {'a': -1, 'c': -1, 't': -1,'g':1}}\n",
        "WS.local_alignment('gata','ctac',dict,-2)"
      ],
      "metadata": {
        "colab": {
          "base_uri": "https://localhost:8080/"
        },
        "id": "VkBkLyKkE5uC",
        "outputId": "4811d4e1-ce4b-4362-f2f6-f1ef1fdc2efe"
      },
      "execution_count": null,
      "outputs": [
        {
          "output_type": "stream",
          "name": "stdout",
          "text": [
            "the substitution matrix\n",
            "   a  c  t  g\n",
            "a  1 -1 -1 -1\n",
            "c -1  1 -1 -1\n",
            "t -1 -1  1 -1\n",
            "g -1 -1 -1  1\n",
            "\n",
            "\n",
            "the matrix for the given sequence\n",
            "[[0. 0. 0. 0. 0.]\n",
            " [0. 0. 0. 0. 0.]\n",
            " [0. 0. 0. 1. 0.]\n",
            " [0. 0. 1. 0. 0.]\n",
            " [0. 0. 0. 2. 0.]]\n",
            "ta\n",
            "ta\n"
          ]
        }
      ]
    },
    {
      "cell_type": "code",
      "source": [],
      "metadata": {
        "id": "_WDDuwEvPcGz"
      },
      "execution_count": null,
      "outputs": []
    }
  ]
}